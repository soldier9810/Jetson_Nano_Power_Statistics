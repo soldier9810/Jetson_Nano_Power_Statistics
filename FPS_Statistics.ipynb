{
 "cells": [
  {
   "cell_type": "code",
   "execution_count": 1,
   "id": "45df648b",
   "metadata": {},
   "outputs": [],
   "source": [
    "import pandas as pd"
   ]
  },
  {
   "cell_type": "code",
   "execution_count": null,
   "id": "137d71dd",
   "metadata": {},
   "outputs": [],
   "source": [
    "#CPU1GPU0 == 1 CPU Core Active and GPU Frequency set to 0\n",
    "#CPU1GPU1 == 1 CPU Core Active and GPU Frequency set to maximum\n",
    "#CPU4GPU0 == 4 CPU Cores Active and GPU Frequency set to 0\n",
    "#MAXN == Full power mode. All CPU cores active and GPU Frequency set to maximum\n",
    "\n",
    "# D in the name means Detected\n",
    "# UD in the name means Undetected"
   ]
  },
  {
   "cell_type": "code",
   "execution_count": 4,
   "id": "81d7e2ed",
   "metadata": {},
   "outputs": [],
   "source": [
    "CPU1GPU0D = pd.read_csv(\"fps_CPU1GPU0_Detected.csv\")\n",
    "CPU1GPU0UD = pd.read_csv(\"fps_CPU1GPU0_Undetected.csv\")"
   ]
  },
  {
   "cell_type": "code",
   "execution_count": 8,
   "id": "1ec9f38e",
   "metadata": {},
   "outputs": [],
   "source": [
    "CPU1GPU0D = pd.DataFrame(CPU1GPU0D)\n",
    "CPU1GPU0UD = pd.DataFrame(CPU1GPU0UD)"
   ]
  },
  {
   "cell_type": "code",
   "execution_count": 23,
   "id": "927ca19b",
   "metadata": {},
   "outputs": [
    {
     "data": {
      "text/plain": [
       "3.854036488054903"
      ]
     },
     "execution_count": 23,
     "metadata": {},
     "output_type": "execute_result"
    }
   ],
   "source": [
    "CPU1GPU0D['FPS'].mean(axis=0)"
   ]
  },
  {
   "cell_type": "code",
   "execution_count": 9,
   "id": "dc90ebfe",
   "metadata": {},
   "outputs": [
    {
     "data": {
      "text/plain": [
       "9.745576842221322"
      ]
     },
     "execution_count": 9,
     "metadata": {},
     "output_type": "execute_result"
    }
   ],
   "source": [
    "CPU1GPU0UD['FPS'].mean(axis=0)"
   ]
  },
  {
   "cell_type": "code",
   "execution_count": 10,
   "id": "ac25deb8",
   "metadata": {},
   "outputs": [],
   "source": [
    "CPU1GPU1D = pd.read_csv(\"fps_CPU1GPU1_Detected.csv\")\n",
    "CPU1GPU1UD = pd.read_csv(\"fps_CPU1GPU1_Undetected.csv\")\n",
    "CPU1GPU1D = pd.DataFrame(CPU1GPU1D)\n",
    "CPU1GPU1UD = pd.DataFrame(CPU1GPU1UD)"
   ]
  },
  {
   "cell_type": "code",
   "execution_count": 11,
   "id": "2f2f9af0",
   "metadata": {},
   "outputs": [
    {
     "data": {
      "text/plain": [
       "7.117752715288665"
      ]
     },
     "execution_count": 11,
     "metadata": {},
     "output_type": "execute_result"
    }
   ],
   "source": [
    "CPU1GPU1D['FPS'].mean(axis=0)"
   ]
  },
  {
   "cell_type": "code",
   "execution_count": 12,
   "id": "951c78ba",
   "metadata": {},
   "outputs": [
    {
     "data": {
      "text/plain": [
       "10.249794757868202"
      ]
     },
     "execution_count": 12,
     "metadata": {},
     "output_type": "execute_result"
    }
   ],
   "source": [
    "CPU1GPU1UD['FPS'].mean(axis=0)"
   ]
  },
  {
   "cell_type": "code",
   "execution_count": 13,
   "id": "ebb711b2",
   "metadata": {},
   "outputs": [],
   "source": [
    "CPU4GPU0D = pd.read_csv(\"fps_CPU4GPU0_Detected.csv\")\n",
    "CPU4GPU0UD = pd.read_csv(\"fps_CPU4GPU0_Undetected.csv\")\n",
    "CPU4GPU0D = pd.DataFrame(CPU4GPU0D)\n",
    "CPU4GPU0UD = pd.DataFrame(CPU4GPU0UD)"
   ]
  },
  {
   "cell_type": "code",
   "execution_count": 14,
   "id": "722872d8",
   "metadata": {},
   "outputs": [
    {
     "data": {
      "text/plain": [
       "4.507183998297266"
      ]
     },
     "execution_count": 14,
     "metadata": {},
     "output_type": "execute_result"
    }
   ],
   "source": [
    "CPU4GPU0D['FPS'].mean(axis=0)"
   ]
  },
  {
   "cell_type": "code",
   "execution_count": 15,
   "id": "34b1d7ee",
   "metadata": {},
   "outputs": [
    {
     "data": {
      "text/plain": [
       "16.762124926177385"
      ]
     },
     "execution_count": 15,
     "metadata": {},
     "output_type": "execute_result"
    }
   ],
   "source": [
    "CPU4GPU0UD['FPS'].mean(axis=0)"
   ]
  },
  {
   "cell_type": "code",
   "execution_count": 20,
   "id": "f8cd0d6d",
   "metadata": {},
   "outputs": [],
   "source": [
    "MAXND = pd.read_csv(\"fps_MAXN_Detected_retest.csv\")\n",
    "MAXNUD = pd.read_csv(\"fps_MAXN_Undetected.csv\")\n",
    "MAXND = pd.DataFrame(MAXND)\n",
    "MAXNUD = pd.DataFrame(MAXNUD)"
   ]
  },
  {
   "cell_type": "code",
   "execution_count": 21,
   "id": "ea315ea6",
   "metadata": {},
   "outputs": [
    {
     "data": {
      "text/plain": [
       "11.36892094152527"
      ]
     },
     "execution_count": 21,
     "metadata": {},
     "output_type": "execute_result"
    }
   ],
   "source": [
    "MAXND['FPS'].mean(axis=0)"
   ]
  },
  {
   "cell_type": "code",
   "execution_count": 22,
   "id": "4f85a14b",
   "metadata": {},
   "outputs": [
    {
     "data": {
      "text/plain": [
       "18.108060026823487"
      ]
     },
     "execution_count": 22,
     "metadata": {},
     "output_type": "execute_result"
    }
   ],
   "source": [
    "MAXNUD['FPS'].mean(axis=0)"
   ]
  },
  {
   "cell_type": "code",
   "execution_count": 27,
   "id": "08cbdd05",
   "metadata": {},
   "outputs": [],
   "source": [
    "df = pd.read_csv(\"fps_stats_2.csv\")"
   ]
  },
  {
   "cell_type": "code",
   "execution_count": 28,
   "id": "48575d2a",
   "metadata": {},
   "outputs": [],
   "source": [
    "df = pd.DataFrame(df)"
   ]
  },
  {
   "cell_type": "code",
   "execution_count": 29,
   "id": "8b3fe374",
   "metadata": {},
   "outputs": [
    {
     "data": {
      "text/html": [
       "<div>\n",
       "<style scoped>\n",
       "    .dataframe tbody tr th:only-of-type {\n",
       "        vertical-align: middle;\n",
       "    }\n",
       "\n",
       "    .dataframe tbody tr th {\n",
       "        vertical-align: top;\n",
       "    }\n",
       "\n",
       "    .dataframe thead th {\n",
       "        text-align: right;\n",
       "    }\n",
       "</style>\n",
       "<table border=\"1\" class=\"dataframe\">\n",
       "  <thead>\n",
       "    <tr style=\"text-align: right;\">\n",
       "      <th></th>\n",
       "      <th>Power_Mode</th>\n",
       "      <th>FPS</th>\n",
       "      <th>Type</th>\n",
       "    </tr>\n",
       "  </thead>\n",
       "  <tbody>\n",
       "    <tr>\n",
       "      <th>0</th>\n",
       "      <td>CPU1GPU0</td>\n",
       "      <td>3.854036</td>\n",
       "      <td>Detected</td>\n",
       "    </tr>\n",
       "    <tr>\n",
       "      <th>1</th>\n",
       "      <td>CPU1GPU0</td>\n",
       "      <td>9.745577</td>\n",
       "      <td>Undetected</td>\n",
       "    </tr>\n",
       "    <tr>\n",
       "      <th>2</th>\n",
       "      <td>CPU1GPU1</td>\n",
       "      <td>7.117753</td>\n",
       "      <td>Detected</td>\n",
       "    </tr>\n",
       "    <tr>\n",
       "      <th>3</th>\n",
       "      <td>CPU1GPU1</td>\n",
       "      <td>10.249795</td>\n",
       "      <td>Undetected</td>\n",
       "    </tr>\n",
       "    <tr>\n",
       "      <th>4</th>\n",
       "      <td>CPU4GPU0</td>\n",
       "      <td>4.507184</td>\n",
       "      <td>Detected</td>\n",
       "    </tr>\n",
       "    <tr>\n",
       "      <th>5</th>\n",
       "      <td>CPU4GPU0</td>\n",
       "      <td>16.762125</td>\n",
       "      <td>Undetected</td>\n",
       "    </tr>\n",
       "    <tr>\n",
       "      <th>6</th>\n",
       "      <td>MAXN</td>\n",
       "      <td>11.368921</td>\n",
       "      <td>Detected</td>\n",
       "    </tr>\n",
       "    <tr>\n",
       "      <th>7</th>\n",
       "      <td>MAXN</td>\n",
       "      <td>18.108060</td>\n",
       "      <td>Undetected</td>\n",
       "    </tr>\n",
       "  </tbody>\n",
       "</table>\n",
       "</div>"
      ],
      "text/plain": [
       "  Power_Mode        FPS        Type\n",
       "0   CPU1GPU0   3.854036    Detected\n",
       "1   CPU1GPU0   9.745577  Undetected\n",
       "2   CPU1GPU1   7.117753    Detected\n",
       "3   CPU1GPU1  10.249795  Undetected\n",
       "4   CPU4GPU0   4.507184    Detected\n",
       "5   CPU4GPU0  16.762125  Undetected\n",
       "6       MAXN  11.368921    Detected\n",
       "7       MAXN  18.108060  Undetected"
      ]
     },
     "execution_count": 29,
     "metadata": {},
     "output_type": "execute_result"
    }
   ],
   "source": [
    "df"
   ]
  },
  {
   "cell_type": "code",
   "execution_count": 30,
   "id": "8407c02a",
   "metadata": {},
   "outputs": [],
   "source": [
    "import seaborn as sns"
   ]
  },
  {
   "cell_type": "code",
   "execution_count": 31,
   "id": "e42907f7",
   "metadata": {},
   "outputs": [
    {
     "data": {
      "text/plain": [
       "<Axes: xlabel='Power_Mode', ylabel='FPS'>"
      ]
     },
     "execution_count": 31,
     "metadata": {},
     "output_type": "execute_result"
    },
    {
     "data": {
      "image/png": "[encoded data removed]",
      "text/plain": [
       "<Figure size 640x480 with 1 Axes>"
      ]
     },
     "metadata": {},
     "output_type": "display_data"
    }
   ],
   "source": [
    "sns.barplot(x='Power_Mode',y='FPS',data=df,hue='Type')"
   ]
  },
  {
   "cell_type": "code",
   "execution_count": null,
   "id": "f34a9fee",
   "metadata": {},
   "outputs": [],
   "source": []
  }
 ],
 "metadata": {
  "kernelspec": {
   "display_name": "Python 3 (ipykernel)",
   "language": "python",
   "name": "python3"
  },
  "language_info": {
   "codemirror_mode": {
    "name": "ipython",
    "version": 3
   },
   "file_extension": ".py",
   "mimetype": "text/x-python",
   "name": "python",
   "nbconvert_exporter": "python",
   "pygments_lexer": "ipython3",
   "version": "3.10.9"
  }
 },
 "nbformat": 4,
 "nbformat_minor": 5
}
