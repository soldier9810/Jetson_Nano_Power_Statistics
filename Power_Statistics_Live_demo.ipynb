{
 "cells": [
  {
   "cell_type": "code",
   "execution_count": 1,
   "id": "cd5d3b4a",
   "metadata": {},
   "outputs": [],
   "source": [
    "import pandas as pd\n",
    "import ast\n",
    "import matplotlib.pyplot as plt"
   ]
  },
  {
   "cell_type": "code",
   "execution_count": 12,
   "id": "8495254a",
   "metadata": {},
   "outputs": [],
   "source": [
    "def func(filename):\n",
    "    df = pd.read_csv(filename)\n",
    "    cpu_volt = []\n",
    "    cpu_curr = []\n",
    "    cpu_power = []\n",
    "    cpu_warn = []\n",
    "    cpu_crit = []\n",
    "    cpu_online = []\n",
    "    cpu_avg = []\n",
    "    gpu_volt = []\n",
    "    gpu_curr = []\n",
    "    gpu_power = []\n",
    "    gpu_warn = []\n",
    "    gpu_crit = []\n",
    "    gpu_online = []\n",
    "    gpu_avg = []\n",
    "    for i in range(0,len(df)):\n",
    "        cpu_volt.append(ast.literal_eval(df['rail'][i])['POM_5V_CPU']['volt'])\n",
    "        cpu_curr.append(ast.literal_eval(df['rail'][i])['POM_5V_CPU']['curr'])\n",
    "        cpu_power.append(ast.literal_eval(df['rail'][i])['POM_5V_CPU']['power'])\n",
    "        cpu_warn.append(ast.literal_eval(df['rail'][i])['POM_5V_CPU']['warn'])\n",
    "        cpu_crit.append(ast.literal_eval(df['rail'][i])['POM_5V_CPU']['crit'])\n",
    "        cpu_online.append(ast.literal_eval(df['rail'][i])['POM_5V_CPU']['online'])\n",
    "        cpu_avg.append(ast.literal_eval(df['rail'][i])['POM_5V_CPU']['avg'])\n",
    "        gpu_volt.append(ast.literal_eval(df['rail'][i])['POM_5V_GPU']['volt'])\n",
    "        gpu_curr.append(ast.literal_eval(df['rail'][i])['POM_5V_GPU']['curr'])\n",
    "        gpu_power.append(ast.literal_eval(df['rail'][i])['POM_5V_GPU']['power'])\n",
    "        gpu_warn.append(ast.literal_eval(df['rail'][i])['POM_5V_GPU']['warn'])\n",
    "        gpu_crit.append(ast.literal_eval(df['rail'][i])['POM_5V_GPU']['crit'])\n",
    "        gpu_online.append(ast.literal_eval(df['rail'][i])['POM_5V_GPU']['online'])\n",
    "        gpu_avg.append(ast.literal_eval(df['rail'][i])['POM_5V_GPU']['avg'])\n",
    "    cpu_stats = {'Voltage':cpu_volt,'Current':cpu_curr,'Power':cpu_power,'warn':cpu_warn,'crit':cpu_crit,'online':cpu_online,'avg':cpu_avg}\n",
    "    cpu_stats = pd.DataFrame(cpu_stats)\n",
    "    gpu_stats = {'Voltage':gpu_volt,'Current':gpu_curr,'Power':gpu_power,'warn':gpu_warn,'crit':gpu_crit,'online':gpu_online,'avg':gpu_avg}\n",
    "    gpu_stats = pd.DataFrame(gpu_stats)\n",
    "    x_axis = [i/2 for i in range(0,len(df))]\n",
    "    print(\"Average power consumed by CPU during training: {} \\nAverage power consumed by GPU during training: {}\\nAverage power consumed overall: {}\".format(cpu_stats['Power'].mean(axis=0),gpu_stats['Power'].mean(axis=0), df['Power TOT'].mean(axis=0)))\n",
    "#     plt.figure().set_figwidth(15)\n",
    "#     plt.plot(x_axis,cpu_power)\n",
    "#     plt.xlabel('Time')\n",
    "#     plt.ylabel('CPU Power Consumption')\n",
    "#     plt.show()\n",
    "#     plt.figure().set_figwidth(15)\n",
    "#     plt.plot(x_axis,gpu_power)\n",
    "#     plt.xlabel('Time')\n",
    "#     plt.ylabel('GPU Power Consumption')\n",
    "#     plt.show()\n",
    "#     plt.figure().set_figwidth(15)\n",
    "#     plt.plot(x_axis,df['Power TOT'])\n",
    "#     plt.xlabel('Time')\n",
    "#     plt.ylabel('Total Power Consumption')\n",
    "#     plt.show()"
   ]
  },
  {
   "cell_type": "code",
   "execution_count": 13,
   "id": "e8f71f6f",
   "metadata": {},
   "outputs": [
    {
     "name": "stdout",
     "output_type": "stream",
     "text": [
      "Average power consumed by CPU during training: 824.2615384615384 \n",
      "Average power consumed by GPU during training: 112.6\n",
      "Average power consumed overall: 2758.2923076923075\n"
     ]
    }
   ],
   "source": [
    "func(\"liveDemo_CPU1GPU0_Detected.csv\")\n",
    "#Stats for 1 CPU Core Active and GPU Frequency set to 0 and live demo running with face detected"
   ]
  },
  {
   "cell_type": "code",
   "execution_count": 14,
   "id": "e554c62a",
   "metadata": {},
   "outputs": [
    {
     "name": "stdout",
     "output_type": "stream",
     "text": [
      "Average power consumed by CPU during training: 859.2523364485982 \n",
      "Average power consumed by GPU during training: 69.59813084112149\n",
      "Average power consumed overall: 2730.2803738317757\n"
     ]
    }
   ],
   "source": [
    "func(\"liveDemo_CPU1GPU0_Undetected.csv\")\n",
    "#Stats for 1 CPU Core Active and GPU Frequency set to 0 and live demo running with no face detected."
   ]
  },
  {
   "cell_type": "code",
   "execution_count": 15,
   "id": "e53e0673",
   "metadata": {},
   "outputs": [
    {
     "name": "stdout",
     "output_type": "stream",
     "text": [
      "Average power consumed by CPU during training: 838.3 \n",
      "Average power consumed by GPU during training: 139.8375\n",
      "Average power consumed overall: 2816.2125\n"
     ]
    }
   ],
   "source": [
    "func(\"liveDemo_CPU1GPU1_Detected.csv\")\n",
    "#Stats for 1 CPU Core Active and GPU Frequency set to max and live demo running with face detected"
   ]
  },
  {
   "cell_type": "code",
   "execution_count": 17,
   "id": "fd65e4a6",
   "metadata": {},
   "outputs": [
    {
     "name": "stdout",
     "output_type": "stream",
     "text": [
      "Average power consumed by CPU during training: 870.728813559322 \n",
      "Average power consumed by GPU during training: 68.08474576271186\n",
      "Average power consumed overall: 2736.2881355932204\n"
     ]
    }
   ],
   "source": [
    "func(\"liveDemo_CPU1_GPU1_Undetected.csv\")\n",
    "#Stats for 1 CPU Core Active and GPU Frequency set to max and live demo running with no face detected"
   ]
  },
  {
   "cell_type": "code",
   "execution_count": 18,
   "id": "879f1f96",
   "metadata": {},
   "outputs": [
    {
     "name": "stdout",
     "output_type": "stream",
     "text": [
      "Average power consumed by CPU during training: 1763.3417721518988 \n",
      "Average power consumed by GPU during training: 120.88607594936708\n",
      "Average power consumed overall: 3928.3544303797466\n"
     ]
    }
   ],
   "source": [
    "func(\"liveDemo_CPU4GPU0_Detected.csv\")\n",
    "#Stats for 4 CPU Cores Active and GPU Frequency set to 0 and live demo running with face detected"
   ]
  },
  {
   "cell_type": "code",
   "execution_count": 19,
   "id": "c914a6d8",
   "metadata": {},
   "outputs": [
    {
     "name": "stdout",
     "output_type": "stream",
     "text": [
      "Average power consumed by CPU during training: 2218.844827586207 \n",
      "Average power consumed by GPU during training: 82.48275862068965\n",
      "Average power consumed overall: 4276.1551724137935\n"
     ]
    }
   ],
   "source": [
    "func(\"liveDemo_CPU4GPU0_Undetected.csv\")\n",
    "#Stats for 4 CPU Cores Active and GPU Frequency set to 0 and live demo running with no face detected"
   ]
  },
  {
   "cell_type": "code",
   "execution_count": 20,
   "id": "fb0a3900",
   "metadata": {},
   "outputs": [
    {
     "name": "stdout",
     "output_type": "stream",
     "text": [
      "Average power consumed by CPU during training: 2207.4727272727273 \n",
      "Average power consumed by GPU during training: 243.8181818181818\n",
      "Average power consumed overall: 4404.309090909091\n"
     ]
    }
   ],
   "source": [
    "func(\"liveDemo_MAXN_Detected.csv\")\n",
    "#Stats for 4 CPU Cores Active and GPU Frequency set to max and live demo running with face detected"
   ]
  },
  {
   "cell_type": "code",
   "execution_count": 21,
   "id": "dc90e86b",
   "metadata": {},
   "outputs": [
    {
     "name": "stdout",
     "output_type": "stream",
     "text": [
      "Average power consumed by CPU during training: 1952.5232558139535 \n",
      "Average power consumed by GPU during training: 72.69767441860465\n",
      "Average power consumed overall: 4100.453488372093\n"
     ]
    }
   ],
   "source": [
    "func(\"liveDemo_MAXN_Undetected.csv\")\n",
    "#Stats for 4 CPU Cores Active and GPU Frequency set to max and live demo running with no face detected"
   ]
  },
  {
   "cell_type": "code",
   "execution_count": null,
   "id": "0dc16deb",
   "metadata": {},
   "outputs": [],
   "source": []
  }
 ],
 "metadata": {
  "kernelspec": {
   "display_name": "Python 3 (ipykernel)",
   "language": "python",
   "name": "python3"
  },
  "language_info": {
   "codemirror_mode": {
    "name": "ipython",
    "version": 3
   },
   "file_extension": ".py",
   "mimetype": "text/x-python",
   "name": "python",
   "nbconvert_exporter": "python",
   "pygments_lexer": "ipython3",
   "version": "3.10.9"
  }
 },
 "nbformat": 4,
 "nbformat_minor": 5
}
