{
 "cells": [
  {
   "cell_type": "code",
   "execution_count": 2,
   "id": "641e8651",
   "metadata": {},
   "outputs": [],
   "source": [
    "import pandas as pd\n",
    "import ast\n",
    "import matplotlib.pyplot as plt"
   ]
  },
  {
   "cell_type": "code",
   "execution_count": 18,
   "id": "953c1ca5",
   "metadata": {},
   "outputs": [],
   "source": [
    "def func(filename):\n",
    "    df = pd.read_csv(filename)\n",
    "    cpu_volt = []\n",
    "    cpu_curr = []\n",
    "    cpu_power = []\n",
    "    cpu_warn = []\n",
    "    cpu_crit = []\n",
    "    cpu_online = []\n",
    "    cpu_avg = []\n",
    "    gpu_volt = []\n",
    "    gpu_curr = []\n",
    "    gpu_power = []\n",
    "    gpu_warn = []\n",
    "    gpu_crit = []\n",
    "    gpu_online = []\n",
    "    gpu_avg = []\n",
    "    print(\"Time taken to train: \",len(df)*0.5/60,\" minutes\")\n",
    "    for i in range(0,len(df)):\n",
    "        cpu_volt.append(ast.literal_eval(df['rail'][i])['POM_5V_CPU']['volt'])\n",
    "        cpu_curr.append(ast.literal_eval(df['rail'][i])['POM_5V_CPU']['curr'])\n",
    "        cpu_power.append(ast.literal_eval(df['rail'][i])['POM_5V_CPU']['power'])\n",
    "        cpu_warn.append(ast.literal_eval(df['rail'][i])['POM_5V_CPU']['warn'])\n",
    "        cpu_crit.append(ast.literal_eval(df['rail'][i])['POM_5V_CPU']['crit'])\n",
    "        cpu_online.append(ast.literal_eval(df['rail'][i])['POM_5V_CPU']['online'])\n",
    "        cpu_avg.append(ast.literal_eval(df['rail'][i])['POM_5V_CPU']['avg'])\n",
    "        gpu_volt.append(ast.literal_eval(df['rail'][i])['POM_5V_GPU']['volt'])\n",
    "        gpu_curr.append(ast.literal_eval(df['rail'][i])['POM_5V_GPU']['curr'])\n",
    "        gpu_power.append(ast.literal_eval(df['rail'][i])['POM_5V_GPU']['power'])\n",
    "        gpu_warn.append(ast.literal_eval(df['rail'][i])['POM_5V_GPU']['warn'])\n",
    "        gpu_crit.append(ast.literal_eval(df['rail'][i])['POM_5V_GPU']['crit'])\n",
    "        gpu_online.append(ast.literal_eval(df['rail'][i])['POM_5V_GPU']['online'])\n",
    "        gpu_avg.append(ast.literal_eval(df['rail'][i])['POM_5V_GPU']['avg'])\n",
    "    cpu_stats = {'Voltage':cpu_volt,'Current':cpu_curr,'Power':cpu_power,'warn':cpu_warn,'crit':cpu_crit,'online':cpu_online,'avg':cpu_avg}\n",
    "    cpu_stats = pd.DataFrame(cpu_stats)\n",
    "    gpu_stats = {'Voltage':gpu_volt,'Current':gpu_curr,'Power':gpu_power,'warn':gpu_warn,'crit':gpu_crit,'online':gpu_online,'avg':gpu_avg}\n",
    "    gpu_stats = pd.DataFrame(gpu_stats)\n",
    "    x_axis = [i/2 for i in range(0,len(df))]\n",
    "    print(\"Average power consumed by CPU during training: {} \\nAverage power consumed by GPU during training: {}\\nAverage power consumed overall: {}\".format(cpu_stats['Power'].mean(axis=0),gpu_stats['Power'].mean(axis=0), df['Power TOT'].mean(axis=0)))\n"
   ]
  },
  {
   "cell_type": "code",
   "execution_count": 19,
   "id": "e32915dc",
   "metadata": {},
   "outputs": [
    {
     "name": "stdout",
     "output_type": "stream",
     "text": [
      "Time taken to train:  8.7  minutes\n",
      "Average power consumed by CPU during training: 765.3227969348659 \n",
      "Average power consumed by GPU during training: 169.49616858237547\n",
      "Average power consumed overall: 2880.616858237548\n"
     ]
    }
   ],
   "source": [
    "func(\"training_5W.csv\")"
   ]
  },
  {
   "cell_type": "code",
   "execution_count": 20,
   "id": "0a120fa7",
   "metadata": {},
   "outputs": [
    {
     "name": "stdout",
     "output_type": "stream",
     "text": [
      "Time taken to train:  11.316666666666666  minutes\n",
      "Average power consumed by CPU during training: 829.4867452135493 \n",
      "Average power consumed by GPU during training: 173.85125184094255\n",
      "Average power consumed overall: 2875.902798232695\n"
     ]
    }
   ],
   "source": [
    "func(\"training_CPU1GPU0.csv\")"
   ]
  },
  {
   "cell_type": "code",
   "execution_count": 21,
   "id": "312be694",
   "metadata": {},
   "outputs": [
    {
     "name": "stdout",
     "output_type": "stream",
     "text": [
      "Time taken to train:  8.958333333333334  minutes\n",
      "Average power consumed by CPU during training: 1378.286511627907 \n",
      "Average power consumed by GPU during training: 200.4\n",
      "Average power consumed overall: 3640.1088372093022\n"
     ]
    }
   ],
   "source": [
    "func(\"training_CPU1GPU1.csv\")"
   ]
  },
  {
   "cell_type": "code",
   "execution_count": 22,
   "id": "f4c8eba3",
   "metadata": {},
   "outputs": [
    {
     "name": "stdout",
     "output_type": "stream",
     "text": [
      "Time taken to train:  8.758333333333333  minutes\n",
      "Average power consumed by CPU during training: 1415.6422454804947 \n",
      "Average power consumed by GPU during training: 209.5385347288297\n",
      "Average power consumed overall: 3701.9276879162703\n"
     ]
    }
   ],
   "source": [
    "func(\"training_CPU4GPU0.csv\")"
   ]
  },
  {
   "cell_type": "code",
   "execution_count": null,
   "id": "f286b7f5",
   "metadata": {},
   "outputs": [],
   "source": []
  }
 ],
 "metadata": {
  "kernelspec": {
   "display_name": "Python 3 (ipykernel)",
   "language": "python",
   "name": "python3"
  },
  "language_info": {
   "codemirror_mode": {
    "name": "ipython",
    "version": 3
   },
   "file_extension": ".py",
   "mimetype": "text/x-python",
   "name": "python",
   "nbconvert_exporter": "python",
   "pygments_lexer": "ipython3",
   "version": "3.10.9"
  }
 },
 "nbformat": 4,
 "nbformat_minor": 5
}
